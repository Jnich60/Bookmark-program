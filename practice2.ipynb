{
  "nbformat": 4,
  "nbformat_minor": 0,
  "metadata": {
    "colab": {
      "provenance": [],
      "authorship_tag": "ABX9TyOIwC5GEO6d9UIMYB3vo7U3",
      "include_colab_link": true
    },
    "kernelspec": {
      "name": "python3",
      "display_name": "Python 3"
    },
    "language_info": {
      "name": "python"
    }
  },
  "cells": [
    {
      "cell_type": "markdown",
      "metadata": {
        "id": "view-in-github",
        "colab_type": "text"
      },
      "source": [
        "<a href=\"https://colab.research.google.com/github/Jnich60/Bookmark-program/blob/new/practice2.ipynb\" target=\"_parent\"><img src=\"https://colab.research.google.com/assets/colab-badge.svg\" alt=\"Open In Colab\"/></a>"
      ]
    },
    {
      "cell_type": "code",
      "source": [
        "wishList = 0 #variables to store our bookmark information\n",
        "work = 0\n",
        "playList = 0\n",
        "miscellaneous = 0\n",
        "title = []\n",
        "while True: #while loop to loop through the manager\n",
        "  print(\n",
        "    \"\\nWelcome to the BookmarkManager:\\n\"\n",
        "    \"\\n(1) Add a bookmark\\n\"\n",
        "    \"(2) Statistics\\n\"\n",
        "    \"(3) View bookmarks\\n\"\n",
        "    \"(4) Exit Program\")\n",
        "  userSelect = int(input(\"\\n Please select an option: \")) #user input for\n",
        "\n",
        "  if userSelect == 1: # selection to enter bookmark info\n",
        "\n",
        "    link = input(\"\\nEnter the bookmark's link: \")\n",
        "    titleInput = input(\"\\nEnter the bookmark's title: \")\n",
        "    title.append(titleInput)\n",
        "    userCategory = int(input(\"\\nEnter category: 1 - Wishlist\\n\" # each category is stored for statistics\n",
        "    \"2 - work\\n\"\n",
        "    \"3 - Playlist\\n\"\n",
        "    \"4 - Miscellaneous: \"))\n",
        "\n",
        "    if userCategory == 1:\n",
        "        wishList += 1\n",
        "    elif userCategory == 2:\n",
        "        work += 1\n",
        "    elif userCategory == 3:\n",
        "        playList += 1\n",
        "    elif userCategory == 4:\n",
        "        miscellaneous += 1\n",
        "    else:\n",
        "        print(\"Invalid option\")\n",
        "        exit()\n",
        "  elif userSelect == 2: # selection to show bookmark statistics\n",
        "    print(\"Statistics - We have:\" )\n",
        "    print(f\"{wishList} - Wishlist\")\n",
        "    print(f\"{work} - work\")\n",
        "    print(f\"{playList} - Playlist\")\n",
        "    print(f\"{miscellaneous} - Miscellaneous\")\n",
        "  elif userSelect == 3: # selection to show bookmarks entered\n",
        "    print(\"View bookmarks:\", title)\n",
        "  elif userSelect == 4: # exit the program\n",
        "\n",
        "    print(\"Exit Program:\")\n",
        "    break\n",
        "  else:\n",
        "    print(\"Invalid option\")\n",
        "    exit()\n"
      ],
      "metadata": {
        "id": "ojDo7InT70T2"
      },
      "execution_count": null,
      "outputs": []
    }
  ]
}