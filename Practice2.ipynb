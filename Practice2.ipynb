{
  "nbformat": 4,
  "nbformat_minor": 0,
  "metadata": {
    "colab": {
      "provenance": [],
      "authorship_tag": "ABX9TyOIwC5GEO6d9UIMYB3vo7U3",
      "include_colab_link": true
    },
    "kernelspec": {
      "name": "python3",
      "display_name": "Python 3"
    },
    "language_info": {
      "name": "python"
    }
  },
  "cells": [
    {
      "cell_type": "markdown",
      "metadata": {
        "id": "view-in-github",
        "colab_type": "text"
      },
      "source": [
        "<a href=\"https://colab.research.google.com/github/Jnich60/Bookmark-program/blob/new/Practice2.ipynb\" target=\"_parent\"><img src=\"https://colab.research.google.com/assets/colab-badge.svg\" alt=\"Open In Colab\"/></a>"
      ]
    },
    {
      "cell_type": "code",
      "source": [
        "wishList = 0 #variables to store our bookmark information\n",
        "work = 0\n",
        "playList = 0\n",
        "miscellaneous = 0\n",
        "title = []\n",
        "while True: #while loop to loop through the manager\n",
        "  print(\n",
        "    \"\\nWelcome to the BookmarkManager:\\n\"\n",
        "    \"\\n(1) Add a bookmark\\n\"\n",
        "    \"(2) Statistics\\n\"\n",
        "    \"(3) View bookmarks\\n\"\n",
        "    \"(4) Exit Program\")\n",
        "  userSelect = int(input(\"\\n Please select an option: \")) #user input for\n",
        "\n",
        "  if userSelect == 1: # selection to enter bookmark info\n",
        "\n",
        "    link = input(\"\\nEnter the bookmark's link: \")\n",
        "    titleInput = input(\"\\nEnter the bookmark's title: \")\n",
        "    title.append(titleInput)\n",
        "    userCategory = int(input(\"\\nEnter category: 1 - Wishlist\\n\" # each category is stored for statistics\n",
        "    \"2 - work\\n\"\n",
        "    \"3 - Playlist\\n\"\n",
        "    \"4 - Miscellaneous: \"))\n",
        "\n",
        "    if userCategory == 1:\n",
        "        wishList += 1\n",
        "    elif userCategory == 2:\n",
        "        work += 1\n",
        "    elif userCategory == 3:\n",
        "        playList += 1\n",
        "    elif userCategory == 4:\n",
        "        miscellaneous += 1\n",
        "    else:\n",
        "        print(\"Invalid option\")\n",
        "        exit()\n",
        "  elif userSelect == 2: # selection to show bookmark statistics\n",
        "    print(\"Statistics - We have:\" )\n",
        "    print(f\"{wishList} - Wishlist\")\n",
        "    print(f\"{work} - work\")\n",
        "    print(f\"{playList} - Playlist\")\n",
        "    print(f\"{miscellaneous} - Miscellaneous\")\n",
        "  elif userSelect == 3: # selection to show bookmarks entered\n",
        "    print(\"View bookmarks:\", title)\n",
        "  elif userSelect == 4: # exit the program\n",
        "\n",
        "    print(\"Exit Program:\")\n",
        "    break\n",
        "  else:\n",
        "    print(\"Invalid option\")\n",
        "    exit()\n"
      ],
      "metadata": {
        "id": "ojDo7InT70T2",
        "colab": {
          "base_uri": "https://localhost:8080/",
          "height": 478
        },
        "outputId": "f2a5acdb-3b4d-4f8c-9e1d-5e00fc2a5bd9"
      },
      "execution_count": null,
      "outputs": [
        {
          "output_type": "stream",
          "name": "stdout",
          "text": [
            "\n",
            "Welcome to the BookmarkManager:\n",
            "\n",
            "(1) Add a bookmark\n",
            "(2) Statistics\n",
            "(3) View bookmarks\n",
            "(4) Exit Program\n"
          ]
        },
        {
          "output_type": "error",
          "ename": "KeyboardInterrupt",
          "evalue": "Interrupted by user",
          "traceback": [
            "\u001b[0;31m---------------------------------------------------------------------------\u001b[0m",
            "\u001b[0;31mKeyboardInterrupt\u001b[0m                         Traceback (most recent call last)",
            "\u001b[0;32m<ipython-input-4-cf2f0ccfe1e9>\u001b[0m in \u001b[0;36m<cell line: 0>\u001b[0;34m()\u001b[0m\n\u001b[1;32m     11\u001b[0m     \u001b[0;34m\"(3) View bookmarks\\n\"\u001b[0m\u001b[0;34m\u001b[0m\u001b[0;34m\u001b[0m\u001b[0m\n\u001b[1;32m     12\u001b[0m     \"(4) Exit Program\")\n\u001b[0;32m---> 13\u001b[0;31m   \u001b[0muserSelect\u001b[0m \u001b[0;34m=\u001b[0m \u001b[0mint\u001b[0m\u001b[0;34m(\u001b[0m\u001b[0minput\u001b[0m\u001b[0;34m(\u001b[0m\u001b[0;34m\"\\n Please select an option: \"\u001b[0m\u001b[0;34m)\u001b[0m\u001b[0;34m)\u001b[0m \u001b[0;31m#user input for\u001b[0m\u001b[0;34m\u001b[0m\u001b[0;34m\u001b[0m\u001b[0m\n\u001b[0m\u001b[1;32m     14\u001b[0m \u001b[0;34m\u001b[0m\u001b[0m\n\u001b[1;32m     15\u001b[0m   \u001b[0;32mif\u001b[0m \u001b[0muserSelect\u001b[0m \u001b[0;34m==\u001b[0m \u001b[0;36m1\u001b[0m\u001b[0;34m:\u001b[0m \u001b[0;31m# selection to enter bookmark info\u001b[0m\u001b[0;34m\u001b[0m\u001b[0;34m\u001b[0m\u001b[0m\n",
            "\u001b[0;32m/usr/local/lib/python3.11/dist-packages/ipykernel/kernelbase.py\u001b[0m in \u001b[0;36mraw_input\u001b[0;34m(self, prompt)\u001b[0m\n\u001b[1;32m    849\u001b[0m                 \u001b[0;34m\"raw_input was called, but this frontend does not support input requests.\"\u001b[0m\u001b[0;34m\u001b[0m\u001b[0;34m\u001b[0m\u001b[0m\n\u001b[1;32m    850\u001b[0m             )\n\u001b[0;32m--> 851\u001b[0;31m         return self._input_request(str(prompt),\n\u001b[0m\u001b[1;32m    852\u001b[0m             \u001b[0mself\u001b[0m\u001b[0;34m.\u001b[0m\u001b[0m_parent_ident\u001b[0m\u001b[0;34m,\u001b[0m\u001b[0;34m\u001b[0m\u001b[0;34m\u001b[0m\u001b[0m\n\u001b[1;32m    853\u001b[0m             \u001b[0mself\u001b[0m\u001b[0;34m.\u001b[0m\u001b[0m_parent_header\u001b[0m\u001b[0;34m,\u001b[0m\u001b[0;34m\u001b[0m\u001b[0;34m\u001b[0m\u001b[0m\n",
            "\u001b[0;32m/usr/local/lib/python3.11/dist-packages/ipykernel/kernelbase.py\u001b[0m in \u001b[0;36m_input_request\u001b[0;34m(self, prompt, ident, parent, password)\u001b[0m\n\u001b[1;32m    893\u001b[0m             \u001b[0;32mexcept\u001b[0m \u001b[0mKeyboardInterrupt\u001b[0m\u001b[0;34m:\u001b[0m\u001b[0;34m\u001b[0m\u001b[0;34m\u001b[0m\u001b[0m\n\u001b[1;32m    894\u001b[0m                 \u001b[0;31m# re-raise KeyboardInterrupt, to truncate traceback\u001b[0m\u001b[0;34m\u001b[0m\u001b[0;34m\u001b[0m\u001b[0m\n\u001b[0;32m--> 895\u001b[0;31m                 \u001b[0;32mraise\u001b[0m \u001b[0mKeyboardInterrupt\u001b[0m\u001b[0;34m(\u001b[0m\u001b[0;34m\"Interrupted by user\"\u001b[0m\u001b[0;34m)\u001b[0m \u001b[0;32mfrom\u001b[0m \u001b[0;32mNone\u001b[0m\u001b[0;34m\u001b[0m\u001b[0;34m\u001b[0m\u001b[0m\n\u001b[0m\u001b[1;32m    896\u001b[0m             \u001b[0;32mexcept\u001b[0m \u001b[0mException\u001b[0m \u001b[0;32mas\u001b[0m \u001b[0me\u001b[0m\u001b[0;34m:\u001b[0m\u001b[0;34m\u001b[0m\u001b[0;34m\u001b[0m\u001b[0m\n\u001b[1;32m    897\u001b[0m                 \u001b[0mself\u001b[0m\u001b[0;34m.\u001b[0m\u001b[0mlog\u001b[0m\u001b[0;34m.\u001b[0m\u001b[0mwarning\u001b[0m\u001b[0;34m(\u001b[0m\u001b[0;34m\"Invalid Message:\"\u001b[0m\u001b[0;34m,\u001b[0m \u001b[0mexc_info\u001b[0m\u001b[0;34m=\u001b[0m\u001b[0;32mTrue\u001b[0m\u001b[0;34m)\u001b[0m\u001b[0;34m\u001b[0m\u001b[0;34m\u001b[0m\u001b[0m\n",
            "\u001b[0;31mKeyboardInterrupt\u001b[0m: Interrupted by user"
          ]
        }
      ]
    }
  ]
}